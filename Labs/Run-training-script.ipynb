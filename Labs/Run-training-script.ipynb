{
  "cells": [
    {
      "cell_type": "markdown",
      "metadata": {},
      "source": [
        "# Run a training script with the Python SDK\n",
        "\n",
        "You can use the Python SDK for Azure Machine Learning to submit scripts as jobs. By using jobs, you can easily keep track of the input parameters and outputs when training a machine learning model.\n",
        "\n",
        "Run the cell below to train a classification model to predict diabetes. The model is trained by running the **diabetes_training.py** script that can be found in the **diabetes-training** folder. It uses the **diabetes.csv** file as the training data. The **environment.yml** file lists the necessary packages which need to be installed on the compute cluster before running the script."
      ]
    },
    {
      "cell_type": "markdown",
      "metadata": {},
      "source": [
        "**Important**: Replace the **XX** in `vm-cluster-XX` with your initials. The name should correspond with the name of an existing compute cluster in your Azure Machine Learning workspace."
      ]
    },
    {
      "cell_type": "code",
      "execution_count": 3,
      "metadata": {
        "gather": {
          "logged": 1663753569264
        }
      },
      "outputs": [],
      "source": [
        "# import necessary packages\n",
        "from azure.ai.ml import MLClient, command, Input\n",
        "from azure.identity import DefaultAzureCredential\n",
        "from azure.ai.ml.entities import Environment\n",
        "from azureml.core import Workspace\n",
        "\n",
        "if __name__ == \"__main__\":\n",
        "    # get details of the current Azure ML workspace\n",
        "    ws = Workspace.from_config()\n",
        "\n",
        "    # default authentication flow for Azure applications\n",
        "    default_azure_credential = DefaultAzureCredential()\n",
        "    subscription_id = ws.subscription_id\n",
        "    resource_group = ws.resource_group\n",
        "    workspace = ws.name\n",
        "\n",
        "    # client class to interact with Azure ML services and resources, e.g. workspaces, jobs, models and so on.\n",
        "    ml_client = MLClient(\n",
        "        default_azure_credential,\n",
        "        subscription_id,\n",
        "        resource_group,\n",
        "        workspace)\n",
        "\n",
        "    env_name = \"sklearn-env\"\n",
        "    env_docker_image = Environment(\n",
        "        image=\"mcr.microsoft.com/azureml/openmpi3.1.2-ubuntu18.04\",\n",
        "        name=env_name,\n",
        "        conda_file=\"environment.yml\",\n",
        "    )\n",
        "    ml_client.environments.create_or_update(env_docker_image)\n",
        "\n",
        "    # configure job\n",
        "    computeName=\"aml-cluster\"\n",
        "    job = command(\n",
        "        code=\"./diabetes-training\",\n",
        "        command=\"python diabetes_training.py\",\n",
        "        environment=f\"{env_name}@latest\",\n",
        "        compute=computeName,\n",
        "        display_name=\"diabetes-pythonv2-train\",\n",
        "        experiment_name=\"diabetes-training\"\n",
        "    )\n",
        "\n",
        "    # submit job\n",
        "    returned_job = ml_client.create_or_update(job)\n",
        "    aml_url = returned_job.studio_url\n",
        "    print(\"Monitor your job at\", aml_url)"
      ]
    }
  ],
  "metadata": {
    "kernel_info": {
      "name": "python38-azureml"
    },
    "kernelspec": {
      "display_name": "Python 3.9.5 ('base')",
      "language": "python",
      "name": "python3"
    },
    "language_info": {
      "codemirror_mode": {
        "name": "ipython",
        "version": 3
      },
      "file_extension": ".py",
      "mimetype": "text/x-python",
      "name": "python",
      "nbconvert_exporter": "python",
      "pygments_lexer": "ipython3",
      "version": "3.9.5"
    },
    "microsoft": {
      "host": {
        "AzureML": {
          "notebookHasBeenCompleted": true
        }
      }
    },
    "nteract": {
      "version": "nteract-front-end@1.0.0"
    },
    "vscode": {
      "interpreter": {
        "hash": "f2b2cd046deda8eabef1e765a11d0ec9aa9bd1d31d56ce79c815a38c323e14ec"
      }
    }
  },
  "nbformat": 4,
  "nbformat_minor": 2
}
